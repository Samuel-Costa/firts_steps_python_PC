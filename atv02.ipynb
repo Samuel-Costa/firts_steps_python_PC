{
 "cells": [
  {
   "cell_type": "markdown",
   "metadata": {},
   "source": [
    "<small><small><i>\n",
    "Este notebook foi baseado nos notebooks disponíveis em [https://gitlab.erc.monash.edu.au/andrease/Python4Maths.git]\n",
    "</i></small></small>"
   ]
  },
  {
   "cell_type": "markdown",
   "metadata": {},
   "source": [
    "# Comparando e decidindo\n",
    "\n",
    "Python permite comparar os valores associados a diferentes variáveis usando **operadores de comparação**. \n",
    "\n",
    "Expressões que contêm operadores de comparação são chamadas **expressões lógicas** e podem ser usadas em **estruturas de decisão** para decidir o que o seu código deve fazer. \n",
    "\n",
    "Neste roteiro, você aprenderá a utilizar estes conceitos da linguagem Python.\n",
    "\n",
    "## Operadores de comparação\n",
    "\n",
    "Operadores de comparação são utilizados para construir **expressões lógicas**. \n",
    "\n",
    "As regras básicas sobre expressões lógicas em Python são:\n",
    "\n",
    "* Expressões lógicas são avaliadas como verdadeiras (**True**) ou falsas (**False**).\n",
    "* Todos os operadores de comparação em Python têm precedência igual. \n",
    "* Assim como em expressões aritméticas, é possível usar parênteses para mudar a ordem de avaliação de uma expressão.\n",
    "* Caso haja empate de precedência, a expressão é avaliada da esquerda para a direita.\n",
    "\n",
    "Alguns dos operadores de comparação disponíveis em Python estão listados abaixo. "
   ]
  },
  {
   "cell_type": "markdown",
   "metadata": {},
   "source": [
    "| Símbolo | Significado |\n",
    "|:----:|---|\n",
    "| == | Igualdade |\n",
    "| !=  | Diferença |\n",
    "| < | Menor |\n",
    "| > | Maior |\n",
    "| <=  | Menor ou igual |\n",
    "| >=  | Maior ou igual |\n",
    "\n",
    "Note que é diferente usar `==` (comparação de igualdade) e `=` (associação de variável a valor)."
   ]
  },
  {
   "cell_type": "code",
   "execution_count": 1,
   "metadata": {},
   "outputs": [
    {
     "data": {
      "text/plain": [
       "True"
      ]
     },
     "execution_count": 1,
     "metadata": {},
     "output_type": "execute_result"
    }
   ],
   "source": [
    "z = 2\n",
    "z == 2"
   ]
  },
  {
   "cell_type": "code",
   "execution_count": 2,
   "metadata": {},
   "outputs": [
    {
     "data": {
      "text/plain": [
       "False"
      ]
     },
     "execution_count": 2,
     "metadata": {},
     "output_type": "execute_result"
    }
   ],
   "source": [
    "z > 2"
   ]
  },
  {
   "cell_type": "code",
   "execution_count": 3,
   "metadata": {},
   "outputs": [
    {
     "data": {
      "text/plain": [
       "True"
      ]
     },
     "execution_count": 3,
     "metadata": {},
     "output_type": "execute_result"
    }
   ],
   "source": [
    "z <= 2"
   ]
  },
  {
   "cell_type": "code",
   "execution_count": 4,
   "metadata": {
    "scrolled": true
   },
   "outputs": [
    {
     "data": {
      "text/plain": [
       "False"
      ]
     },
     "execution_count": 4,
     "metadata": {},
     "output_type": "execute_result"
    }
   ],
   "source": [
    "z != 2"
   ]
  },
  {
   "cell_type": "markdown",
   "metadata": {},
   "source": [
    "### Exercícios de fixação"
   ]
  },
  {
   "cell_type": "markdown",
   "metadata": {},
   "source": [
    "1 - Leia dois números inteiros e teste se o primeiro é menor do que o segundo."
   ]
  },
  {
   "cell_type": "code",
   "execution_count": 5,
   "metadata": {},
   "outputs": [
    {
     "name": "stdout",
     "output_type": "stream",
     "text": [
      "2\n",
      "1\n"
     ]
    },
    {
     "data": {
      "text/plain": [
       "False"
      ]
     },
     "execution_count": 5,
     "metadata": {},
     "output_type": "execute_result"
    }
   ],
   "source": [
    "n1 = int(input())\n",
    "n2 = int(input())\n",
    "n1 < n2"
   ]
  },
  {
   "cell_type": "markdown",
   "metadata": {},
   "source": [
    "2 - Sorteie dois números e teste se ambos são iguais.\n",
    "\n",
    "**Dica --** O procedimento **randint**(*menor*, *maior*) sorteia inteiros no intervalo entre menor e maior. Este procedimento não é um procedimento nativo do Python, por isso precisamos importá-lo do módulo **random**, que o fornece."
   ]
  },
  {
   "cell_type": "code",
   "execution_count": 7,
   "metadata": {
    "scrolled": true
   },
   "outputs": [
    {
     "data": {
      "text/plain": [
       "False"
      ]
     },
     "execution_count": 7,
     "metadata": {},
     "output_type": "execute_result"
    }
   ],
   "source": [
    "from random import randint\n",
    "n1 = randint(0,100)\n",
    "n2 = randint(0,100)\n",
    "n1 == n2"
   ]
  },
  {
   "cell_type": "markdown",
   "metadata": {},
   "source": [
    "### Comparando textos"
   ]
  },
  {
   "cell_type": "markdown",
   "metadata": {},
   "source": [
    "Também é possível utilizar operadores de comparação para comparar textos:\n",
    "* A igualdade (==) e a diferença (!=) funcionam de forma trivial, assim como no caso dos valores numéricos.\n",
    "* As demais operações consideram a ordem alfabética.\n"
   ]
  },
  {
   "cell_type": "code",
   "execution_count": 8,
   "metadata": {},
   "outputs": [
    {
     "data": {
      "text/plain": [
       "True"
      ]
     },
     "execution_count": 8,
     "metadata": {},
     "output_type": "execute_result"
    }
   ],
   "source": [
    "nome = \"Stevejobsson\"\n",
    "nome == \"Stevejobsson\""
   ]
  },
  {
   "cell_type": "code",
   "execution_count": 9,
   "metadata": {},
   "outputs": [
    {
     "data": {
      "text/plain": [
       "True"
      ]
     },
     "execution_count": 9,
     "metadata": {},
     "output_type": "execute_result"
    }
   ],
   "source": [
    "nome != \"Facebookson\""
   ]
  },
  {
   "cell_type": "code",
   "execution_count": 10,
   "metadata": {},
   "outputs": [
    {
     "data": {
      "text/plain": [
       "True"
      ]
     },
     "execution_count": 10,
     "metadata": {},
     "output_type": "execute_result"
    }
   ],
   "source": [
    "'abc' < 'bbc'"
   ]
  },
  {
   "cell_type": "code",
   "execution_count": 11,
   "metadata": {},
   "outputs": [
    {
     "data": {
      "text/plain": [
       "True"
      ]
     },
     "execution_count": 11,
     "metadata": {},
     "output_type": "execute_result"
    }
   ],
   "source": [
    "'bbc' <= 'bbc'"
   ]
  },
  {
   "cell_type": "code",
   "execution_count": 12,
   "metadata": {},
   "outputs": [
    {
     "data": {
      "text/plain": [
       "False"
      ]
     },
     "execution_count": 12,
     "metadata": {},
     "output_type": "execute_result"
    }
   ],
   "source": [
    "'bbc' <= 'bac'"
   ]
  },
  {
   "cell_type": "markdown",
   "metadata": {},
   "source": [
    "### Exercícios de fixação"
   ]
  },
  {
   "cell_type": "markdown",
   "metadata": {},
   "source": [
    "3 - Leia dois nomes e teste se o primeiro é anterior ao segundo considerando a ordem alfabética."
   ]
  },
  {
   "cell_type": "code",
   "execution_count": 14,
   "metadata": {},
   "outputs": [
    {
     "name": "stdout",
     "output_type": "stream",
     "text": [
      "Samuel\n",
      "Bruno\n"
     ]
    },
    {
     "data": {
      "text/plain": [
       "False"
      ]
     },
     "execution_count": 14,
     "metadata": {},
     "output_type": "execute_result"
    }
   ],
   "source": [
    "name1 = input()\n",
    "name2 = input()\n",
    "name1 < name2"
   ]
  },
  {
   "cell_type": "markdown",
   "metadata": {},
   "source": [
    "4 - Teste se os textos \"Python\" e \"python\" são considerados idênticos."
   ]
  },
  {
   "cell_type": "code",
   "execution_count": 15,
   "metadata": {},
   "outputs": [
    {
     "data": {
      "text/plain": [
       "False"
      ]
     },
     "execution_count": 15,
     "metadata": {},
     "output_type": "execute_result"
    }
   ],
   "source": [
    "\"Python\" == \"python\""
   ]
  },
  {
   "cell_type": "markdown",
   "metadata": {},
   "source": [
    "## Operadores lógicos"
   ]
  },
  {
   "cell_type": "markdown",
   "metadata": {},
   "source": [
    "É possível criar expressões lógicas mais complexas utilizando **operadores lógicos**.\n",
    "\n",
    "Os operadores lógicos mais simples do Python são os operadores E (**and**) e OU (**or**).\n",
    "\n",
    "As regras básicas sobre expressões que contenham operadores lógicos em Python são:\n",
    "\n",
    "* Operadores de comparação têm maior precedência que operadores lógicos.\n",
    "* O operador lógico **and** tem maior precedência que o operador **or**. \n",
    "* É possível usar parênteses para mudar a ordem de avaliação de uma expressão.\n",
    "* Caso reste apenas operações de mesma precedência, a expressão passa a ser avaliada da esquerda para a direita."
   ]
  },
  {
   "cell_type": "markdown",
   "metadata": {},
   "source": [
    "| Símbolo | Significado |\n",
    "|:----:|---|\n",
    "| **and** | **True**, desde que ambos os lados da expressão sejam verdadeiros |\n",
    "| **or**  | **True**, desde que pelo menos um lado da expressão seja verdadeiro |"
   ]
  },
  {
   "cell_type": "code",
   "execution_count": 17,
   "metadata": {},
   "outputs": [
    {
     "data": {
      "text/plain": [
       "True"
      ]
     },
     "execution_count": 17,
     "metadata": {},
     "output_type": "execute_result"
    }
   ],
   "source": [
    "\"a\" < \"b\" and 5 >= 5"
   ]
  },
  {
   "cell_type": "code",
   "execution_count": 18,
   "metadata": {},
   "outputs": [
    {
     "data": {
      "text/plain": [
       "False"
      ]
     },
     "execution_count": 18,
     "metadata": {},
     "output_type": "execute_result"
    }
   ],
   "source": [
    "\"a\" <= \"b\" and 5 > 5"
   ]
  },
  {
   "cell_type": "code",
   "execution_count": 19,
   "metadata": {},
   "outputs": [
    {
     "data": {
      "text/plain": [
       "True"
      ]
     },
     "execution_count": 19,
     "metadata": {},
     "output_type": "execute_result"
    }
   ],
   "source": [
    "\"a\" <= \"b\" or 5 > 5"
   ]
  },
  {
   "cell_type": "markdown",
   "metadata": {},
   "source": [
    "### Exercícios de fixação"
   ]
  },
  {
   "cell_type": "markdown",
   "metadata": {},
   "source": [
    "5 - Leia um gênero e uma idade. Teste se esta combinação representa alguém em situação de obrigatoriedade militar.\n",
    "\n",
    "**Dica --** Em tempos de \"paz\", o serviço militar só é obrigatório para homens maiores de idade."
   ]
  },
  {
   "cell_type": "code",
   "execution_count": 23,
   "metadata": {},
   "outputs": [
    {
     "name": "stdout",
     "output_type": "stream",
     "text": [
      "Digite seu gênero (M - Masculino ou F - Feminino): m\n",
      "Digite sua idade: 19\n"
     ]
    },
    {
     "data": {
      "text/plain": [
       "True"
      ]
     },
     "execution_count": 23,
     "metadata": {},
     "output_type": "execute_result"
    }
   ],
   "source": [
    "genero = input('Digite seu gênero (M - Masculino ou F - Feminino): ')\n",
    "idade = int(input('Digite sua idade: '))\n",
    "genero == 'M' or genero == 'm' and idade >= 18"
   ]
  },
  {
   "cell_type": "markdown",
   "metadata": {},
   "source": [
    "6 - Leia uma idade e teste se esta pessoa está obrigada a votar.\n",
    "\n",
    "**Dica --** Estão obrigados a votar pessoas entre 18 e 70 anos de idade."
   ]
  },
  {
   "cell_type": "code",
   "execution_count": 27,
   "metadata": {},
   "outputs": [
    {
     "name": "stdout",
     "output_type": "stream",
     "text": [
      "Digite sua idade: 25\n"
     ]
    },
    {
     "data": {
      "text/plain": [
       "True"
      ]
     },
     "execution_count": 27,
     "metadata": {},
     "output_type": "execute_result"
    }
   ],
   "source": [
    "idade = int(input('Digite sua idade: '))\n",
    "idade >= 18 and idade <= 70"
   ]
  },
  {
   "cell_type": "markdown",
   "metadata": {},
   "source": [
    "7 - Leia uma idade e teste se para esta pessoa o voto é facultativo.\n",
    "\n",
    "**Dica --** O voto é facultativo para pessoas entre 16 e 18 anos ou acima dos 70 anos."
   ]
  },
  {
   "cell_type": "code",
   "execution_count": 30,
   "metadata": {},
   "outputs": [
    {
     "name": "stdout",
     "output_type": "stream",
     "text": [
      "Digite sua idade: 78\n"
     ]
    },
    {
     "data": {
      "text/plain": [
       "True"
      ]
     },
     "execution_count": 30,
     "metadata": {},
     "output_type": "execute_result"
    }
   ],
   "source": [
    "idade = int(input('Digite sua idade: '))\n",
    "idade >= 16 and idade < 18 or idade > 70"
   ]
  },
  {
   "cell_type": "markdown",
   "metadata": {},
   "source": [
    "8 - Leia três inteiros e teste se o primeiro pertence ao intervalo delimitado pelos dois últimos.\n",
    "\n",
    "**Observação --** Por simplicidade, suponha que os dois últimos números estão ordenados de forma crescente."
   ]
  },
  {
   "cell_type": "code",
   "execution_count": 32,
   "metadata": {},
   "outputs": [
    {
     "name": "stdout",
     "output_type": "stream",
     "text": [
      "1\n",
      "2\n",
      "3\n"
     ]
    },
    {
     "data": {
      "text/plain": [
       "False"
      ]
     },
     "execution_count": 32,
     "metadata": {},
     "output_type": "execute_result"
    }
   ],
   "source": [
    "n1 = int(input())\n",
    "n2 = int(input())\n",
    "n3 = int(input())\n",
    "n1 > n2 and n1 < n3"
   ]
  },
  {
   "cell_type": "markdown",
   "metadata": {},
   "source": [
    "### Estruturas de decisão"
   ]
  },
  {
   "cell_type": "markdown",
   "metadata": {},
   "source": [
    "A principal estrutura utilizada em Python para definir se um trecho de um código será executado é a estrutura **if**, ilustrada a seguir:\n",
    "\n",
    "```python\n",
    "if condicao:\n",
    "    expressao\n",
    "    expressao\n",
    "    ...```"
   ]
  },
  {
   "cell_type": "markdown",
   "metadata": {},
   "source": [
    "As regras básicas para o uso da estrutura **if** em Python são:\n",
    "\n",
    "* O trecho de código delimitado por uma estrutura **if** é chamado bloco.\n",
    "* Um bloco é caracterizado pela *identação* de suas linhas. Assim, a quantidade de espaços no começo de cada linha é bastante importante no Python.\n",
    "* O bloco de uma estrutura **if** só é executado se sua condição for satisfeita. A condição é avaliada como uma expressão lógica."
   ]
  },
  {
   "cell_type": "code",
   "execution_count": 35,
   "metadata": {},
   "outputs": [
    {
     "name": "stdout",
     "output_type": "stream",
     "text": [
      "12\n",
      "O número 12 é par.\n"
     ]
    }
   ],
   "source": [
    "numero = int(input())\n",
    "if numero % 2 == 0:\n",
    "    print(\"O número\", numero, \"é par.\")"
   ]
  },
  {
   "cell_type": "markdown",
   "metadata": {},
   "source": [
    "### Exercícios de fixação"
   ]
  },
  {
   "cell_type": "markdown",
   "metadata": {},
   "source": [
    "9 - Leia um inteiro e o imprima se ele for múltiplo de 3."
   ]
  },
  {
   "cell_type": "code",
   "execution_count": 39,
   "metadata": {},
   "outputs": [
    {
     "name": "stdout",
     "output_type": "stream",
     "text": [
      "12\n",
      "O número 12 é múltiplo de 3\n"
     ]
    }
   ],
   "source": [
    "num = int(input())\n",
    "if num % 3 == 0:\n",
    "    print(\"O número\", num, \"é múltiplo de 3\")"
   ]
  },
  {
   "cell_type": "markdown",
   "metadata": {},
   "source": [
    "10 - Informe entradas para o código abaixo que façam a mensagem ser impressa."
   ]
  },
  {
   "cell_type": "code",
   "execution_count": 41,
   "metadata": {},
   "outputs": [
    {
     "name": "stdout",
     "output_type": "stream",
     "text": [
      "ai\n",
      "64\n",
      "Mensagem impressa ;)\n"
     ]
    }
   ],
   "source": [
    "texto = input()\n",
    "numero = int(input())\n",
    "if texto < \"hello\" and numero ** 0.5 == 8:\n",
    "    print(\"Mensagem impressa ;)\")"
   ]
  },
  {
   "cell_type": "markdown",
   "metadata": {},
   "source": [
    "### A estrutura ```if-else```"
   ]
  },
  {
   "cell_type": "markdown",
   "metadata": {},
   "source": [
    "Uma expansão da estrutura **if** é a estrutura **if-else**, que define trechos de código mutuamente exclusivos.\n",
    "\n",
    "```python\n",
    "if condicao:\n",
    "    # bloco se a condição for satisfeita\n",
    "    expressao\n",
    "    ...\n",
    "else:\n",
    "    # bloco se a condição não for satisfeita\n",
    "    expressao\n",
    "    ...\n",
    "```\n",
    "Ambos os blocos de uma estrutura **if-else** devem estar *identados*, de preferência pela mesma quantidade de espaços."
   ]
  },
  {
   "cell_type": "code",
   "execution_count": 43,
   "metadata": {},
   "outputs": [
    {
     "name": "stdout",
     "output_type": "stream",
     "text": [
      "15\n",
      "O número 15 é ímpar.\n"
     ]
    }
   ],
   "source": [
    "numero = int(input())\n",
    "if numero % 2 == 0:\n",
    "    print(\"O número\", numero, \"é par.\")\n",
    "else:\n",
    "    print(\"O número\", numero, \"é ímpar.\")"
   ]
  },
  {
   "cell_type": "markdown",
   "metadata": {},
   "source": [
    "### Exercícios de fixação"
   ]
  },
  {
   "cell_type": "markdown",
   "metadata": {
    "collapsed": true
   },
   "source": [
    "11 - Leia um inteiro e informe se ele é ou não múltiplo de 6."
   ]
  },
  {
   "cell_type": "code",
   "execution_count": 45,
   "metadata": {},
   "outputs": [
    {
     "name": "stdout",
     "output_type": "stream",
     "text": [
      "24\n",
      "O número 24 é múltiplo de 6.\n"
     ]
    }
   ],
   "source": [
    "numero = int(input())\n",
    "if numero % 6 == 0:\n",
    "    print(\"O número\", numero, \"é múltiplo de 6.\")\n",
    "else:\n",
    "    print(\"O número\", numero, \"não é múltiplo de 6.\")"
   ]
  },
  {
   "cell_type": "markdown",
   "metadata": {},
   "source": [
    "12 - Leia dois nomes de pessoas e os imprima em ordem alfabética."
   ]
  },
  {
   "cell_type": "code",
   "execution_count": 46,
   "metadata": {},
   "outputs": [
    {
     "name": "stdout",
     "output_type": "stream",
     "text": [
      "Samuel\n",
      "Bruno\n",
      "Bruno Samuel\n"
     ]
    }
   ],
   "source": [
    "name1 = input()\n",
    "name2 = input()\n",
    "if name1 < name2:\n",
    "    print(name1, name2)\n",
    "else:\n",
    "    print(name2, name1)"
   ]
  },
  {
   "cell_type": "markdown",
   "metadata": {},
   "source": [
    "### A estrutura ```if-elif-else```"
   ]
  },
  {
   "cell_type": "markdown",
   "metadata": {},
   "source": [
    "É possível utilizar a estrutura **if-elif-else** para especificar múltiplos fluxos de execução do algoritmo, em função de uma condição principal e de condições alternativas:\n",
    "\n",
    "```python\n",
    "if condicao_principal:\n",
    "    # bloco se a condição principal for satisfeita\n",
    "    expressao\n",
    "    ...\n",
    "elif condicao_alternativa_1:\n",
    "    # bloco se a condição principal não for satisfeita mas a condição alternativa 1 for\n",
    "    expressao\n",
    "    ...\n",
    "elif condicao_alternativa_2:\n",
    "    # bloco se nem a condição principal nem a condição alternativa 1 forem satisfeitas, mas a condição alternativa 2 for\n",
    "    expressao\n",
    "    ...\n",
    "...\n",
    "else:\n",
    "    # bloco se nem a condição principal nem as condições alternativas forem satisfeitas\n",
    "    expressao\n",
    "    ...\n",
    "\n",
    "```"
   ]
  },
  {
   "cell_type": "markdown",
   "metadata": {},
   "source": [
    "As regras básicas para o uso da estrutura **if-elif-else** em Python são:\n",
    "\n",
    "* O bloco **if** é executado se a condição principal for satisfeita.\n",
    "* Um bloco **elif** é executado se sua condição for satisfeita e as condições acima dele não forem. \n",
    "* O bloco **else** é executado se nenhuma condição for satisfeita.\n"
   ]
  },
  {
   "cell_type": "code",
   "execution_count": 47,
   "metadata": {},
   "outputs": [
    {
     "name": "stdout",
     "output_type": "stream",
     "text": [
      "Chute um número entre 0 e 100: 55\n",
      "Seu chute foi menor que o número sorteado!\n"
     ]
    }
   ],
   "source": [
    "from random import randint\n",
    "\n",
    "numero = randint(0,100)\n",
    "chute = int(input(\"Chute um número entre 0 e 100: \"))\n",
    "if chute == numero:\n",
    "    print(\"Parabéns, você acertou!\")\n",
    "elif chute < numero:\n",
    "    print(\"Seu chute foi menor que o número sorteado!\")\n",
    "else:\n",
    "    print(\"Seu chute foi maior que o número sorteado!\")"
   ]
  },
  {
   "cell_type": "markdown",
   "metadata": {},
   "source": [
    "### Exercícios de fixação"
   ]
  },
  {
   "cell_type": "markdown",
   "metadata": {},
   "source": [
    "13 - Leia um número e teste se ele é positivo, negativo ou nulo."
   ]
  },
  {
   "cell_type": "code",
   "execution_count": 48,
   "metadata": {},
   "outputs": [
    {
     "name": "stdout",
     "output_type": "stream",
     "text": [
      "12\n",
      "O número  12 é positivo.\n"
     ]
    }
   ],
   "source": [
    "num = int(input())\n",
    "if num > 0:\n",
    "    print(\"O número \", num, \"é positivo.\")\n",
    "elif numer < 0:\n",
    "    print(\"O número \", num, \"é negativo.\")\n",
    "else:\n",
    "    print(\"O número \", num, \"é nulo.\")"
   ]
  },
  {
   "cell_type": "markdown",
   "metadata": {},
   "source": [
    "### Combinando múltiplas estruturas de decisão"
   ]
  },
  {
   "cell_type": "markdown",
   "metadata": {},
   "source": [
    "Também é possível combinar estruturas de decisão em múltiplos níveis, o que é conhecido como **aninhar estruturas**.\n",
    "\n",
    "As regras básicas para aninhar estruturas de decisão em Python são:\n",
    "* Não há limite com relação a quantas estruturas e em quantos níveis.\n",
    "* Blocos de níveis mais profundos devem apresentar maior grau de identação. "
   ]
  },
  {
   "cell_type": "code",
   "execution_count": 49,
   "metadata": {},
   "outputs": [
    {
     "name": "stdout",
     "output_type": "stream",
     "text": [
      "O número 45 é múltiplo de 3, mas não de 2!\n"
     ]
    }
   ],
   "source": [
    "from random import randint\n",
    "\n",
    "numero = randint(0,100)\n",
    "if numero % 6 == 0:\n",
    "    print(\"O número\", numero, \"é múltiplo de 6!\")\n",
    "else:\n",
    "    if numero % 2 == 0:\n",
    "        print(\"O número\", numero, \"é múltiplo de 2, mas não de 3!\")\n",
    "    elif numero % 3 == 0:\n",
    "        print(\"O número\", numero, \"é múltiplo de 3, mas não de 2!\")\n",
    "    else:\n",
    "        print(\"O número\", numero, \"não é multiplo de 2 nem de 3, muito menos de 6!\")"
   ]
  },
  {
   "cell_type": "markdown",
   "metadata": {
    "collapsed": true
   },
   "source": [
    "## Exercícios do URI"
   ]
  },
  {
   "cell_type": "markdown",
   "metadata": {
    "collapsed": true
   },
   "source": [
    "[1037](https://www.urionlinejudge.com.br/judge/pt/problems/view/1037) - Um histograma é um tipo de gráfico estatístico que particiona os dados disponíveis em subgrupos e informa quantos elementos existem em cada subgrupo.\n",
    "\n",
    "Escreva um código Python que possa ser usado para construir um histograma de um conjunto de números inteiros sorteados no intervalo [0,100), isto é, valores maiores ou iguais a 0 e menores que 100. \n",
    "\n",
    "Por simplicidade, considere que apenas um número será sorteado. Você deve identificar a qual dos intervalos a seguir este número pertence: [0,25), [25,50), [50,75), [75,100). "
   ]
  },
  {
   "cell_type": "markdown",
   "metadata": {},
   "source": [
    "|.| Entrada | Saída |\n",
    "|-|:----:|---|\n",
    "| *Exemplo 1* | 5 | [0,25) | \n",
    "| *Exemplo 2* | 50 | [50,75) |\n",
    "| *Exemplo 3* | 74 | [50,75) |"
   ]
  },
  {
   "cell_type": "code",
   "execution_count": 71,
   "metadata": {},
   "outputs": [
    {
     "name": "stdout",
     "output_type": "stream",
     "text": [
      "[50, 75)\n"
     ]
    }
   ],
   "source": [
    "from random import randint\n",
    "\n",
    "numero = randint(0,100)\n",
    "if numero >= 0 and numero < 25:\n",
    "    print(\"[0,25)\")\n",
    "elif numero >= 25 and numero < 50:\n",
    "    print(\"[25, 50)\")\n",
    "elif numero >= 50 and numero < 75:\n",
    "    print(\"[50, 75)\")\n",
    "else:\n",
    "    print(\"[75,100)\")"
   ]
  },
  {
   "cell_type": "markdown",
   "metadata": {},
   "source": [
    "[1049](https://www.urionlinejudge.com.br/judge/pt/problems/view/1049) - Uma árvore de classificação é uma ferramenta usada em diferentes áreas da ciência para ajudar a identificar objetos por suas características.\n",
    "\n",
    "Considerando a árvore de classificação abaixo, escreva um código Python que identifique um animal por suas características. Mais precisamente, seu código deve receber três textos como entrada e informar ao usuário de qual animal se trata.\n",
    "\n",
    "<img src=\"imgs/UOJ_1049_b.png\">"
   ]
  },
  {
   "cell_type": "markdown",
   "metadata": {},
   "source": [
    "|.| Entrada | Saída |\n",
    "|-|----|---|\n",
    "| *Exemplo 1* | vertebrado<br/>mamifero<br/>onivoro | homem | \n",
    "| *Exemplo 2* | vertebrado<br/>ave<br/>carnivoro | aguia |\n",
    "| *Exemplo 3* | invertebrado<br/>anelideo<br/>onivoro | minhoca |"
   ]
  },
  {
   "cell_type": "code",
   "execution_count": 85,
   "metadata": {},
   "outputs": [
    {
     "name": "stdout",
     "output_type": "stream",
     "text": [
      "vertebrado\n",
      "mamifero\n",
      "herbivoro\n",
      "vaca\n"
     ]
    }
   ],
   "source": [
    "tipo1 = input()\n",
    "tipo2 = input()\n",
    "tipo3 = input()\n",
    "\n",
    "if tipo1 == 'vertebrado':\n",
    "    if tipo2 == \"ave\":\n",
    "        if tipo3 == 'carnivoro':\n",
    "            print('aguia')\n",
    "        elif tipo3 == 'onivoro':\n",
    "            print('pombo')\n",
    "        else:\n",
    "            print(\"categoria não encontrada.\")\n",
    "    elif tipo2 == \"mamifero\":\n",
    "        if tipo3 == 'onivoro':\n",
    "            print('homem')\n",
    "        elif tipo3 == 'herbivoro':\n",
    "            print('vaca')\n",
    "        else:\n",
    "            print('categoria não encontrada')\n",
    "    else:\n",
    "        print('categoria não encontrada.')\n",
    "elif tipo1 == 'invertebrado':\n",
    "        if tipo2 == 'inseto':\n",
    "            if tipo3 == 'hematofago':\n",
    "                print('pulga')\n",
    "            elif tipo3 == 'herbivoro':\n",
    "                print('lagarta')\n",
    "            else:\n",
    "                print('categoria não encontrada.')\n",
    "        elif tipo2 == 'anelideo':\n",
    "            if tipo3 == 'hematofago':\n",
    "                print('sanguessuga')\n",
    "            elif tipo3 == 'onivoro':\n",
    "                print('minhoca')\n",
    "            else:\n",
    "                print('categoria não encontrada')\n",
    "        else:\n",
    "            print('cateogria não encontrada.')\n",
    "else:\n",
    "    print('categoria não encontrada.')\n",
    "        \n",
    "         "
   ]
  },
  {
   "cell_type": "markdown",
   "metadata": {},
   "source": [
    "[1049](https://www.urionlinejudge.com.br/judge/pt/problems/view/1049) - Em sistemas de computação gráfica, compreender diferentes sistemas de coordenadas é fundamental.\n",
    "\n",
    "Considere o sistema de coordenadas cartesiano apresentado na figura abaixo. Ele serve para representar pontos que apresentam duas dimensões, normalmente representados com a notação (x, y), onde x representa a coordenada horizontal e y a vertical.\n",
    "\n",
    "<img src=\"imgs/UOJ_1041.png\">\n",
    "\n",
    "O ponto (0,0) representa a origem dos eixos e é a intersecção entre as quatro subregiões ilustradas na figura abaixo (Q1, Q2, Q3 e Q4, onde Q significa *quadrante*, isto é, uma subregião). Cada quadrante da figura representa pontos com as seguintes características:\n",
    "\n",
    "| Quadrante | Horizontal | Vertical |\n",
    "|:-:|:-:|:-:|\n",
    "| Q1 | x > 0 | y > 0 |\n",
    "| Q2 | x < 0 | y > 0 |\n",
    "| Q3 | x < 0 | y < 0 |\n",
    "| Q4 | x > 0 | y < 0 |\n",
    "\n",
    "Também é possível que um ponto esteja sobre um dos eixos:\n",
    "* Um ponto estará sobre o eixo x se y = 0;\n",
    "* Um ponto estará sobre o eixo y se x = 0.\n",
    "\n",
    "Considerando este contexto, escreva um código Python que leia um ponto (duas coordenadas reais) e informe a primeira condição abaixo que se mostrar verdadeira:\n",
    "* Se o ponto está na \"Origem\";\n",
    "* Se o ponto está sobre o \"Eixo X\";\n",
    "* Se o ponto está sobre o \"Eixo Y\";\n",
    "* Em qual quadrante o ponto está."
   ]
  },
  {
   "cell_type": "markdown",
   "metadata": {},
   "source": [
    "|.| Entrada | Saída |\n",
    "|-|:-:|:-:|\n",
    "| *Exemplo 1* | 4.5<br/>-2.2 | Q4 | \n",
    "| *Exemplo 2* | 0.1<br/>0.0 | Eixo X |\n",
    "| *Exemplo 3* | 0.0<br/>0.0 | Origem |"
   ]
  },
  {
   "cell_type": "code",
   "execution_count": 91,
   "metadata": {},
   "outputs": [
    {
     "name": "stdout",
     "output_type": "stream",
     "text": [
      "-1\n",
      "1\n",
      "Q2\n"
     ]
    }
   ],
   "source": [
    "x = float(input())\n",
    "y = float(input())\n",
    "\n",
    "if x == 0 and y == 0:\n",
    "    print(\"Origem\")\n",
    "elif y == 0:\n",
    "    print('Eixo X')\n",
    "elif x == 0:\n",
    "    print('Eixo Y')\n",
    "else:\n",
    "    if x > 0 and y > 0:\n",
    "        print('Q1')\n",
    "    elif x < 0 and y > 0:\n",
    "        print('Q2')\n",
    "    elif x < 0 and y < 0:\n",
    "        print('Q3')\n",
    "    else:\n",
    "        print('Q4')\n"
   ]
  },
  {
   "cell_type": "markdown",
   "metadata": {},
   "source": [
    "[1051](https://www.urionlinejudge.com.br/judge/pt/problems/view/1051) - Sistemas contábeis e de recursos humanos precisam conhecer bem a legislação tributária do país para calcular os impostos a serem recolhidos mensalmente sobre o salário dos funcionários. \n",
    "\n",
    "Trabalhadores também precisam entender quanto ganham e porque existem descontos em seus contra-cheques.\n",
    "\n",
    "Neste exercício, você vai ajudar empresas e trabalhadores a entender os descontos da previdência social (INSS).\n",
    "\n",
    "A tabela usada para calcular esses descontos é apresentada a seguir."
   ]
  },
  {
   "cell_type": "markdown",
   "metadata": {},
   "source": [
    "| Salário de contribuição | Alíquota |\n",
    "|:-:|:-:|\n",
    "| Até 1.693,72 | 8% | \n",
    "| De 1.693,73 a 2.822,90 | 9% |\n",
    "| De 2.822,91 até 5.645,80 | 11% |"
   ]
  },
  {
   "cell_type": "markdown",
   "metadata": {},
   "source": [
    "Como você pode ver, o desconto sobre o salário depende da faixa salarial na qual um trabalhador se enquadre.\n",
    "\n",
    "Além disso, existe um teto na tabela que determina que pessoas que ganhem a partir de 5.645,81 devem contribuir com 621,04 (11% de 5.645,80).\n",
    "\n",
    "Escreva um código Python que receba um salário bruto (antes do desconto) e informe o valor da contribuição para o INSS e o salário líquido (após o desconto)."
   ]
  },
  {
   "cell_type": "markdown",
   "metadata": {},
   "source": [
    "|.| Entrada | Saída |\n",
    "|-|:-:|-|\n",
    "| *Exemplo 1* | 7456.57 | 621.04 6835.53 | \n",
    "| *Exemplo 2* | 2822.90 | 254.06 2568.84 |\n",
    "| *Exemplo 3* | 1693.73 | 152.44 1541.29 |"
   ]
  },
  {
   "cell_type": "code",
   "execution_count": 96,
   "metadata": {},
   "outputs": [
    {
     "ename": "NameError",
     "evalue": "name 'read_numeric' is not defined",
     "output_type": "error",
     "traceback": [
      "\u001b[0;31m---------------------------------------------------------------------------\u001b[0m",
      "\u001b[0;31mNameError\u001b[0m                                 Traceback (most recent call last)",
      "\u001b[0;32m<ipython-input-96-ef407cc51ce7>\u001b[0m in \u001b[0;36m<module>\u001b[0;34m\u001b[0m\n\u001b[0;32m----> 1\u001b[0;31m \u001b[0msalario_bruto\u001b[0m \u001b[0;34m=\u001b[0m \u001b[0;34m\"{:0.2f}\"\u001b[0m\u001b[0;34m.\u001b[0m\u001b[0mformat\u001b[0m\u001b[0;34m(\u001b[0m\u001b[0;34m(\u001b[0m\u001b[0mread_numeric\u001b[0m\u001b[0;34m(\u001b[0m\u001b[0;34m)\u001b[0m\u001b[0;34m)\u001b[0m\u001b[0;34m)\u001b[0m\u001b[0;34m\u001b[0m\u001b[0;34m\u001b[0m\u001b[0m\n\u001b[0m\u001b[1;32m      2\u001b[0m \u001b[0;32mif\u001b[0m \u001b[0msalario_bruto\u001b[0m \u001b[0;34m<=\u001b[0m \u001b[0;36m1693.72\u001b[0m\u001b[0;34m:\u001b[0m\u001b[0;34m\u001b[0m\u001b[0;34m\u001b[0m\u001b[0m\n\u001b[1;32m      3\u001b[0m     \u001b[0mINSS\u001b[0m \u001b[0;34m=\u001b[0m \u001b[0msalario_bruto\u001b[0m \u001b[0;34m*\u001b[0m \u001b[0;36m0.08\u001b[0m\u001b[0;34m\u001b[0m\u001b[0;34m\u001b[0m\u001b[0m\n\u001b[1;32m      4\u001b[0m     \u001b[0msalario_liquido\u001b[0m \u001b[0;34m=\u001b[0m \u001b[0msalario_bruto\u001b[0m \u001b[0;34m-\u001b[0m \u001b[0mINSS\u001b[0m\u001b[0;34m\u001b[0m\u001b[0;34m\u001b[0m\u001b[0m\n\u001b[1;32m      5\u001b[0m     \u001b[0mprint\u001b[0m\u001b[0;34m(\u001b[0m\u001b[0mINSS\u001b[0m\u001b[0;34m,\u001b[0m \u001b[0msalario_liquido\u001b[0m\u001b[0;34m)\u001b[0m\u001b[0;34m\u001b[0m\u001b[0;34m\u001b[0m\u001b[0m\n",
      "\u001b[0;31mNameError\u001b[0m: name 'read_numeric' is not defined"
     ]
    }
   ],
   "source": [
    "salario_bruto = float(input())\n",
    "if salario_bruto <= 1693.72:\n",
    "    INSS = salario_bruto * 0.08\n",
    "    salario_liquido = salario_bruto - INSS\n",
    "    print(INSS, salario_liquido)\n",
    "elif salario_bruto >= 1693.73 and salario_bruto <= 2822.91:\n",
    "    INSS = salario_bruto * 0.09\n",
    "    salario_liquido = salario_bruto - INSS\n",
    "    print(INSS, salario_liquido)\n",
    "else:\n",
    "    INSS = salario_bruto * 0.11\n",
    "    salario_liquido = salario_bruto - INSS\n",
    "    print(INSS, salario_liquido)"
   ]
  },
  {
   "cell_type": "markdown",
   "metadata": {},
   "source": [
    "Um segundo tipo de dedução mensal que incide sobre os ganhos dos trabalhadores é o *imposto de renda sobre pessoa física* (IRPF).\n",
    "\n",
    "Para o cálculo do IRPF, utiliza-se como base de cálculo o salário bruto descontado da contribuição do INSS. \n",
    "\n",
    "As principais diferenças em relação ao cálculo do INSS são:\n",
    "* Quem possui salário-base até 1.903,98 é isento do pagamento do IRPF.\n",
    "* Não há teto para a contribuição do IRPF.\n",
    "* O valor do IRPF cobrado a uma pessoa é abatido de um valor que varia em função da alíquota correspondente.\n",
    "\n",
    "A tabela usada para o cálculo do IRPF é mostrada abaixo."
   ]
  },
  {
   "cell_type": "markdown",
   "metadata": {},
   "source": [
    "| Base de cálculo (R\\$) | Alíquota | Parcela a deduzir |\n",
    "|:-:|:-:|:-:|\n",
    "| Até 1.903,98 | - | - |\n",
    "| De 1.903,99 até 2.826,65 | 7,5% | 142,80 |\n",
    "| De 2.826,66 até 3.751,05 | 15% | 354,80 |\n",
    "| De 3.751,06 até 4.664,68 | 22,5% | 636,13 |\n",
    "| Acima de 4.664,68 | 27,5% | 869,36 |"
   ]
  },
  {
   "cell_type": "markdown",
   "metadata": {},
   "source": [
    "Para entender melhor o cálculo do IRPF, vamos tomar como exemplo uma pessoa que, descontada a contribuição do INSS, ganha 2.000,00.\n",
    "\n",
    "A alíquota para esta remuneração é de 7,5% e o abatimento de 142,80. Assim, a contribuição do IRPF será de 2.000,00 * 7,5% - 142,80 = 7,20.\n",
    "\n",
    "Escreva um código Python que receba um salário-base (já descontado do INSS) e informe o valor da contribuição do IRPF e o salário líquido (após o desconto do IRPF)."
   ]
  },
  {
   "cell_type": "markdown",
   "metadata": {},
   "source": [
    "|.| Entrada | Saída |\n",
    "|-|:-:|-|\n",
    "| *Exemplo 1* | 6835.53 | 1010.41 5825.12 | \n",
    "| *Exemplo 2* | 2568.84 | 49.86 2518.98 |\n",
    "| *Exemplo 3* | 1541.29 | 0.00 1541.29 |"
   ]
  },
  {
   "cell_type": "code",
   "execution_count": null,
   "metadata": {
    "collapsed": true
   },
   "outputs": [],
   "source": []
  }
 ],
 "metadata": {
  "kernelspec": {
   "display_name": "Python 3",
   "language": "python",
   "name": "python3"
  },
  "language_info": {
   "codemirror_mode": {
    "name": "ipython",
    "version": 3
   },
   "file_extension": ".py",
   "mimetype": "text/x-python",
   "name": "python",
   "nbconvert_exporter": "python",
   "pygments_lexer": "ipython3",
   "version": "3.7.2"
  }
 },
 "nbformat": 4,
 "nbformat_minor": 1
}
